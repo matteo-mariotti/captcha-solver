{
  "cells": [
    {
      "cell_type": "markdown",
      "metadata": {
        "colab_type": "text",
        "id": "view-in-github"
      },
      "source": [
        "<a href=\"https://colab.research.google.com/github/matteo-mariotti/captcha-solver/blob/main/Captcha.ipynb\" target=\"_parent\"><img src=\"https://colab.research.google.com/assets/colab-badge.svg\" alt=\"Open In Colab\"/></a>"
      ]
    },
    {
      "cell_type": "code",
      "execution_count": 1,
      "metadata": {
        "colab": {
          "base_uri": "https://localhost:8080/"
        },
        "id": "bJ4IV28DzYis",
        "outputId": "e7ca17dc-59be-4438-a238-475c324126b8"
      },
      "outputs": [
        {
          "name": "stdout",
          "output_type": "stream",
          "text": [
            "Cloning into 'datasets'...\n",
            "remote: Enumerating objects: 38698, done.\u001b[K\n",
            "remote: Counting objects: 100% (38698/38698), done.\u001b[K\n",
            "remote: Compressing objects: 100% (38695/38695), done.\u001b[K\n",
            "remote: Total 38698 (delta 5), reused 38696 (delta 3), pack-reused 0\u001b[K\n",
            "Receiving objects: 100% (38698/38698), 28.81 MiB | 22.23 MiB/s, done.\n",
            "Resolving deltas: 100% (5/5), done.\n",
            "Updating files: 100% (38795/38795), done.\n"
          ]
        }
      ],
      "source": [
        "! git clone https://github.com/matteo-mariotti/datasets.git"
      ]
    },
    {
      "cell_type": "code",
      "execution_count": 4,
      "metadata": {
        "colab": {
          "base_uri": "https://localhost:8080/"
        },
        "id": "2VtnhICM0EnT",
        "outputId": "00efe706-e181-4cb7-ca9e-b9c2ad5159dd"
      },
      "outputs": [
        {
          "name": "stdout",
          "output_type": "stream",
          "text": [
            "ls: cannot access 'datasets': No such file or directory\n"
          ]
        }
      ],
      "source": [
        "! ls datasets"
      ]
    },
    {
      "cell_type": "code",
      "execution_count": 1,
      "metadata": {
        "id": "JaZvPLdW0kKc"
      },
      "outputs": [
        {
          "name": "stderr",
          "output_type": "stream",
          "text": [
            "/home/marco/.local/lib/python3.10/site-packages/requests/__init__.py:102: RequestsDependencyWarning: urllib3 (1.26.13) or chardet (5.1.0)/charset_normalizer (2.0.12) doesn't match a supported version!\n",
            "  warnings.warn(\"urllib3 ({}) or chardet ({})/charset_normalizer ({}) doesn't match a supported \"\n"
          ]
        }
      ],
      "source": [
        "# import Dataset class from pytorch\n",
        "from torch.utils.data import Dataset\n",
        "import pandas as pd\n",
        "import os\n",
        "import cv2\n",
        "import torch\n",
        "import matplotlib.pyplot as plt\n",
        "import torchvision\n",
        "\n",
        "# create a class for the dataset\n",
        "class CaptchaDataset_1(Dataset):\n",
        "    def __init__(self, csv_file, root_dir, transform=None):\n",
        "        self.annotations = pd.read_csv(csv_file)\n",
        "        self.root_dir = root_dir\n",
        "        self.transform = transform\n",
        "\n",
        "    # return the length of the dataset\n",
        "    def __len__(self):\n",
        "        return len(self.annotations)\n",
        "    \n",
        "    # return the item at the index\n",
        "    def __getitem__(self, index):\n",
        "        if torch.is_tensor(index):\n",
        "          index = index.tolist()\n",
        "        # get the image name from the csv file\n",
        "        img_path = os.path.join(self.root_dir, str(self.annotations.iloc[index, 0]) + '.png')\n",
        "        # read the image using cv2\n",
        "        image = cv2.imread(img_path, cv2.IMREAD_GRAYSCALE)\n",
        "        # get the label from the csv file\n",
        "        y_label = torch.tensor(int(self.annotations.iloc[index, 1]))\n",
        "        # return the image and the label\n",
        "\n",
        "        if self.transform:\n",
        "            image = self.transform(image)\n",
        "\n",
        "        return (image, y_label)"
      ]
    },
    {
      "cell_type": "code",
      "execution_count": 20,
      "metadata": {
        "colab": {
          "base_uri": "https://localhost:8080/"
        },
        "id": "fZG9U0210SHY",
        "outputId": "08d6967b-5d0d-43a8-f401-708a739910a3"
      },
      "outputs": [
        {
          "name": "stdout",
          "output_type": "stream",
          "text": [
            "Epoch [1/30], Step [100/268], Loss: 0.6298\n",
            "Epoch [1/30], Step [200/268], Loss: 0.8514\n",
            "1673 2140\n",
            "Accuracy of the network: 78.17757009345794 %\n",
            "Epoch [2/30], Step [100/268], Loss: 0.6581\n",
            "Epoch [2/30], Step [200/268], Loss: 0.5287\n",
            "1782 2140\n",
            "Accuracy of the network: 83.27102803738318 %\n",
            "Epoch [3/30], Step [100/268], Loss: 0.7099\n",
            "Epoch [3/30], Step [200/268], Loss: 0.2932\n",
            "1843 2140\n",
            "Accuracy of the network: 86.1214953271028 %\n",
            "Epoch [4/30], Step [100/268], Loss: 0.2936\n",
            "Epoch [4/30], Step [200/268], Loss: 0.2618\n",
            "1857 2140\n",
            "Accuracy of the network: 86.77570093457943 %\n",
            "Epoch [5/30], Step [100/268], Loss: 0.1260\n",
            "Epoch [5/30], Step [200/268], Loss: 0.1614\n",
            "1809 2140\n",
            "Accuracy of the network: 84.53271028037383 %\n",
            "Epoch [6/30], Step [100/268], Loss: 0.2170\n",
            "Epoch [6/30], Step [200/268], Loss: 0.2705\n",
            "1873 2140\n",
            "Accuracy of the network: 87.5233644859813 %\n",
            "Epoch [7/30], Step [100/268], Loss: 0.0203\n",
            "Epoch [7/30], Step [200/268], Loss: 0.2032\n",
            "1833 2140\n",
            "Accuracy of the network: 85.65420560747664 %\n",
            "Epoch [8/30], Step [100/268], Loss: 0.0183\n",
            "Epoch [8/30], Step [200/268], Loss: 0.0246\n",
            "1857 2140\n",
            "Accuracy of the network: 86.77570093457943 %\n",
            "Epoch [9/30], Step [100/268], Loss: 0.2455\n",
            "Epoch [9/30], Step [200/268], Loss: 0.3578\n",
            "1815 2140\n",
            "Accuracy of the network: 84.81308411214954 %\n",
            "Epoch [10/30], Step [100/268], Loss: 0.0054\n",
            "Epoch [10/30], Step [200/268], Loss: 0.0813\n",
            "1874 2140\n",
            "Accuracy of the network: 87.57009345794393 %\n",
            "Epoch [11/30], Step [100/268], Loss: 0.0108\n",
            "Epoch [11/30], Step [200/268], Loss: 0.0152\n",
            "1846 2140\n",
            "Accuracy of the network: 86.26168224299066 %\n",
            "Epoch [12/30], Step [100/268], Loss: 0.0098\n",
            "Epoch [12/30], Step [200/268], Loss: 0.0013\n",
            "1857 2140\n",
            "Accuracy of the network: 86.77570093457943 %\n",
            "Epoch [13/30], Step [100/268], Loss: 0.0012\n",
            "Epoch [13/30], Step [200/268], Loss: 0.0257\n",
            "1832 2140\n",
            "Accuracy of the network: 85.60747663551402 %\n",
            "Epoch [14/30], Step [100/268], Loss: 0.1888\n",
            "Epoch [14/30], Step [200/268], Loss: 0.1178\n",
            "1864 2140\n",
            "Accuracy of the network: 87.10280373831776 %\n",
            "Epoch [15/30], Step [100/268], Loss: 0.1262\n",
            "Epoch [15/30], Step [200/268], Loss: 0.0043\n",
            "1852 2140\n",
            "Accuracy of the network: 86.54205607476635 %\n",
            "Epoch [16/30], Step [100/268], Loss: 0.0018\n",
            "Epoch [16/30], Step [200/268], Loss: 0.4005\n",
            "1843 2140\n",
            "Accuracy of the network: 86.1214953271028 %\n",
            "Epoch [17/30], Step [100/268], Loss: 0.0685\n",
            "Epoch [17/30], Step [200/268], Loss: 0.0597\n",
            "1849 2140\n",
            "Accuracy of the network: 86.40186915887851 %\n",
            "Epoch [18/30], Step [100/268], Loss: 0.0001\n",
            "Epoch [18/30], Step [200/268], Loss: 0.0001\n",
            "1859 2140\n",
            "Accuracy of the network: 86.86915887850468 %\n",
            "Epoch [19/30], Step [100/268], Loss: 0.0196\n",
            "Epoch [19/30], Step [200/268], Loss: 0.0033\n",
            "1855 2140\n",
            "Accuracy of the network: 86.6822429906542 %\n",
            "Epoch [20/30], Step [100/268], Loss: 0.1034\n",
            "Epoch [20/30], Step [200/268], Loss: 0.0284\n",
            "1829 2140\n",
            "Accuracy of the network: 85.46728971962617 %\n",
            "Epoch [21/30], Step [100/268], Loss: 0.0046\n",
            "Epoch [21/30], Step [200/268], Loss: 0.0013\n",
            "1829 2140\n",
            "Accuracy of the network: 85.46728971962617 %\n",
            "Epoch [22/30], Step [100/268], Loss: 0.0547\n",
            "Epoch [22/30], Step [200/268], Loss: 0.0579\n",
            "1844 2140\n",
            "Accuracy of the network: 86.16822429906541 %\n",
            "Epoch [23/30], Step [100/268], Loss: 0.0939\n",
            "Epoch [23/30], Step [200/268], Loss: 0.0005\n",
            "1859 2140\n",
            "Accuracy of the network: 86.86915887850468 %\n",
            "Epoch [24/30], Step [100/268], Loss: 0.8767\n",
            "Epoch [24/30], Step [200/268], Loss: 0.0001\n",
            "1864 2140\n",
            "Accuracy of the network: 87.10280373831776 %\n",
            "Epoch [25/30], Step [100/268], Loss: 0.0001\n",
            "Epoch [25/30], Step [200/268], Loss: 0.0000\n",
            "1859 2140\n",
            "Accuracy of the network: 86.86915887850468 %\n",
            "Epoch [26/30], Step [100/268], Loss: 0.0060\n",
            "Epoch [26/30], Step [200/268], Loss: 0.1563\n",
            "1854 2140\n",
            "Accuracy of the network: 86.6355140186916 %\n",
            "Epoch [27/30], Step [100/268], Loss: 0.0003\n",
            "Epoch [27/30], Step [200/268], Loss: 0.0770\n",
            "1839 2140\n",
            "Accuracy of the network: 85.93457943925233 %\n",
            "Epoch [28/30], Step [100/268], Loss: 0.0003\n",
            "Epoch [28/30], Step [200/268], Loss: 0.0000\n",
            "1867 2140\n",
            "Accuracy of the network: 87.24299065420561 %\n",
            "Epoch [29/30], Step [100/268], Loss: 0.1155\n",
            "Epoch [29/30], Step [200/268], Loss: 0.0003\n",
            "1864 2140\n",
            "Accuracy of the network: 87.10280373831776 %\n",
            "Epoch [30/30], Step [100/268], Loss: 0.0049\n",
            "Epoch [30/30], Step [200/268], Loss: 0.0001\n",
            "1847 2140\n",
            "Accuracy of the network: 86.30841121495327 %\n",
            "Finished Training\n",
            "1849 2140\n",
            "Accuracy of the network: 86.40186915887851 %\n"
          ]
        }
      ],
      "source": [
        "import torchvision.transforms as transforms\n",
        "import torch\n",
        "import torch.nn as nn\n",
        "\n",
        "# Define the model\n",
        "class ReteNeurale(nn.Module):\n",
        "    def __init__(self):\n",
        "        super(ReteNeurale, self).__init__()\n",
        "        self.conv1 = nn.Conv2d(1, 20, 4)\n",
        "        self.pool = nn.MaxPool2d(2, 2)\n",
        "        self.Dropout = nn.Dropout(0.3)\n",
        "        self.batchNorm1 = nn.BatchNorm2d(20)\n",
        "        self.conv2 = nn.Conv2d(20, 32, 4, stride=2)\n",
        "        self.batchNorm2 = nn.BatchNorm2d(32)\n",
        "        self.conv3 = nn.Conv2d(32, 64, 4, stride=2)\n",
        "        self.batchNorm3 = nn.BatchNorm2d(64)\n",
        "        self.fc1 = nn.Linear(1600, 512)\n",
        "        self.fc2 = nn.Linear(512, 256)\n",
        "        self.fc3 = nn.Linear(256, 36)\n",
        "\n",
        "    def forward(self, x):\n",
        "        x = self.batchNorm1(nn.functional.relu(self.conv1(x)))\n",
        "        x = self.batchNorm2(nn.functional.relu(self.conv2(x)))\n",
        "        x = self.pool(self.batchNorm3(nn.functional.relu(self.conv3(x))))\n",
        "        x = x.view(-1, 1600)\n",
        "        x = nn.functional.relu(self.fc1(x))\n",
        "        #x = self.Dropout(x)\n",
        "        x = self.fc2(x)\n",
        "        x = self.fc3(x)\n",
        "        return x\n",
        "    \n",
        "# Load the data\n",
        "dataset = CaptchaDataset_1(csv_file='datasets/dataset_1.csv', root_dir='datasets/dataset/', transform=transforms.ToTensor())\n",
        "\n",
        "#train_set, test_set = torch.utils.data.random_split(dataset, [8560, 2140])\n",
        "train_set, test_set = torch.utils.data.random_split(dataset, [8560, 2140])\n",
        "\n",
        "train_loader = torch.utils.data.DataLoader(train_set, batch_size=32, shuffle=True)\n",
        "test_loader = torch.utils.data.DataLoader(test_set, batch_size=32, shuffle=True)\n",
        "\n",
        "# Create the model\n",
        "model = ReteNeurale().to(\"cuda\")\n",
        "\n",
        "# Define the hyperparameters\n",
        "learning_rate = 0.001\n",
        "num_epochs = 30\n",
        "\n",
        "# Define the loss function and the optimizer\n",
        "criterion = nn.CrossEntropyLoss()\n",
        "optimizer = torch.optim.AdamW(model.parameters(), lr=learning_rate)\n",
        "\n",
        "# Train the model\n",
        "n_total_steps = len(train_loader)\n",
        "\n",
        "accValues = []\n",
        "train_losses = []\n",
        "\n",
        "for epoch in range(num_epochs):\n",
        "    for i, (images, labels) in enumerate(train_loader):\n",
        "        images = images.to(\"cuda\")\n",
        "        labels = labels.to(\"cuda\")\n",
        "\n",
        "        # Forward pass\n",
        "        outputs = model(images)\n",
        "        loss = criterion(outputs, labels)\n",
        "        \n",
        "        # Backward and optimize\n",
        "        optimizer.zero_grad()\n",
        "        loss.backward()\n",
        "        optimizer.step()\n",
        "\n",
        "        train_losses.append(loss.item())\n",
        "\n",
        "        if (i+1) % 100 == 0:\n",
        "            print(f'Epoch [{epoch+1}/{num_epochs}], Step [{i+1}/{n_total_steps}], Loss: {loss.item():.4f}')\n",
        "\n",
        "\n",
        "                # Test the model\n",
        "    with torch.no_grad():\n",
        "        n_correct = 0\n",
        "        n_samples = 0\n",
        "        for images, labels in test_loader:\n",
        "            images = images.to(\"cuda\")\n",
        "            labels = labels.to(\"cuda\")\n",
        "            outputs = model(images)\n",
        "            # max returns (value ,index)\n",
        "            _, predicted = torch.max(outputs, 1)\n",
        "            n_samples += labels.size(0)\n",
        "            n_correct += (predicted == labels).sum().item()\n",
        "        \n",
        "        acc = 100.0 * n_correct / n_samples\n",
        "        print(n_correct, n_samples)\n",
        "        print(f'Accuracy of the network: {acc} %')\n",
        "\n",
        "print('Finished Training')\n",
        "\n",
        "# Test the model\n",
        "with torch.no_grad():\n",
        "    n_correct = 0\n",
        "    n_samples = 0\n",
        "    for images, labels in test_loader:\n",
        "        images = images.to(\"cuda\")\n",
        "        labels = labels.to(\"cuda\")\n",
        "        outputs = model(images)\n",
        "        # max returns (value ,index)\n",
        "        _, predicted = torch.max(outputs, 1)\n",
        "        n_samples += labels.size(0)\n",
        "        n_correct += (predicted == labels).sum().item()\n",
        "    \n",
        "    acc = 100.0 * n_correct / n_samples\n",
        "    print(n_correct, n_samples)\n",
        "    print(f'Accuracy of the network: {acc} %')"
      ]
    },
    {
      "cell_type": "code",
      "execution_count": 18,
      "metadata": {
        "colab": {
          "base_uri": "https://localhost:8080/",
          "height": 487
        },
        "id": "w8WO_Y5RK6ja",
        "outputId": "aedba706-21c9-402e-9557-6b51d7d77f16"
      },
      "outputs": [
        {
          "data": {
            "image/png": "[encoded data removed]",
            "text/plain": [
              "<Figure size 1000x500 with 1 Axes>"
            ]
          },
          "metadata": {},
          "output_type": "display_data"
        }
      ],
      "source": [
        "import matplotlib.pyplot as plt\n",
        "\n",
        "val_losses = []\n",
        "\n",
        "plt.figure(figsize=(10,5))\n",
        "plt.title(\"Training and Validation Loss\")\n",
        "plt.plot(train_losses,label=\"val\")\n",
        "plt.xlabel(\"iterations\")\n",
        "plt.ylabel(\"Loss\")\n",
        "plt.legend()\n",
        "plt.show()"
      ]
    },
    {
      "cell_type": "code",
      "execution_count": null,
      "metadata": {
        "id": "ZWCLPb5VL2uG"
      },
      "outputs": [],
      "source": []
    }
  ],
  "metadata": {
    "accelerator": "GPU",
    "colab": {
      "authorship_tag": "ABX9TyP6FYOVAX4W6B2HFfigf3XM",
      "gpuType": "T4",
      "include_colab_link": true,
      "provenance": []
    },
    "gpuClass": "standard",
    "kernelspec": {
      "display_name": "Python 3",
      "name": "python3"
    },
    "language_info": {
      "codemirror_mode": {
        "name": "ipython",
        "version": 3
      },
      "file_extension": ".py",
      "mimetype": "text/x-python",
      "name": "python",
      "nbconvert_exporter": "python",
      "pygments_lexer": "ipython3",
      "version": "3.10.10"
    }
  },
  "nbformat": 4,
  "nbformat_minor": 0
}
