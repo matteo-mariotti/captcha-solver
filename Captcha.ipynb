{
  "nbformat": 4,
  "nbformat_minor": 0,
  "metadata": {
    "colab": {
      "provenance": [],
      "gpuType": "T4",
      "authorship_tag": "ABX9TyP6FYOVAX4W6B2HFfigf3XM",
      "include_colab_link": true
    },
    "kernelspec": {
      "name": "python3",
      "display_name": "Python 3"
    },
    "language_info": {
      "name": "python"
    },
    "accelerator": "GPU",
    "gpuClass": "standard"
  },
  "cells": [
    {
      "cell_type": "markdown",
      "metadata": {
        "id": "view-in-github",
        "colab_type": "text"
      },
      "source": [
        "<a href=\"https://colab.research.google.com/github/matteo-mariotti/captcha-solver/blob/main/Captcha.ipynb\" target=\"_parent\"><img src=\"https://colab.research.google.com/assets/colab-badge.svg\" alt=\"Open In Colab\"/></a>"
      ]
    },
    {
      "cell_type": "code",
      "execution_count": 1,
      "metadata": {
        "colab": {
          "base_uri": "https://localhost:8080/"
        },
        "id": "bJ4IV28DzYis",
        "outputId": "e7ca17dc-59be-4438-a238-475c324126b8"
      },
      "outputs": [
        {
          "output_type": "stream",
          "name": "stdout",
          "text": [
            "Cloning into 'datasets'...\n",
            "remote: Enumerating objects: 38698, done.\u001b[K\n",
            "remote: Counting objects: 100% (38698/38698), done.\u001b[K\n",
            "remote: Compressing objects: 100% (38695/38695), done.\u001b[K\n",
            "remote: Total 38698 (delta 5), reused 38696 (delta 3), pack-reused 0\u001b[K\n",
            "Receiving objects: 100% (38698/38698), 28.81 MiB | 22.23 MiB/s, done.\n",
            "Resolving deltas: 100% (5/5), done.\n",
            "Updating files: 100% (38795/38795), done.\n"
          ]
        }
      ],
      "source": [
        "! git clone https://github.com/matteo-mariotti/datasets.git"
      ]
    },
    {
      "cell_type": "code",
      "source": [
        "! ls datasets"
      ],
      "metadata": {
        "colab": {
          "base_uri": "https://localhost:8080/"
        },
        "id": "2VtnhICM0EnT",
        "outputId": "00efe706-e181-4cb7-ca9e-b9c2ad5159dd"
      },
      "execution_count": 2,
      "outputs": [
        {
          "output_type": "stream",
          "name": "stdout",
          "text": [
            "dataset  dataset_1.csv\tdataset_2.csv  datasetN2\n"
          ]
        }
      ]
    },
    {
      "cell_type": "code",
      "source": [
        "# import Dataset class from pytorch\n",
        "from torch.utils.data import Dataset\n",
        "import pandas as pd\n",
        "import os\n",
        "import cv2\n",
        "import torch\n",
        "import matplotlib.pyplot as plt\n",
        "import torchvision\n",
        "\n",
        "# create a class for the dataset\n",
        "class CaptchaDataset_1(Dataset):\n",
        "    def __init__(self, csv_file, root_dir, transform=None):\n",
        "        self.annotations = pd.read_csv(csv_file)\n",
        "        self.root_dir = root_dir\n",
        "        self.transform = transform\n",
        "\n",
        "    # return the length of the dataset\n",
        "    def __len__(self):\n",
        "        return len(self.annotations)\n",
        "    \n",
        "    # return the item at the index\n",
        "    def __getitem__(self, index):\n",
        "        if torch.is_tensor(index):\n",
        "          index = index.tolist()\n",
        "        # get the image name from the csv file\n",
        "        img_path = os.path.join(self.root_dir, str(self.annotations.iloc[index, 0]) + '.png')\n",
        "        # read the image using cv2\n",
        "        image = cv2.imread(img_path, cv2.IMREAD_GRAYSCALE)\n",
        "        # get the label from the csv file\n",
        "        y_label = torch.tensor(int(self.annotations.iloc[index, 1]))\n",
        "        # return the image and the label\n",
        "\n",
        "        if self.transform:\n",
        "            image = self.transform(image)\n",
        "\n",
        "        return (image, y_label)"
      ],
      "metadata": {
        "id": "JaZvPLdW0kKc"
      },
      "execution_count": 3,
      "outputs": []
    },
    {
      "cell_type": "code",
      "source": [
        "import torchvision.transforms as transforms\n",
        "import torch\n",
        "import torch.nn as nn\n",
        "\n",
        "# Define the model\n",
        "class ReteNeurale(nn.Module):\n",
        "    def __init__(self):\n",
        "        super(ReteNeurale, self).__init__()\n",
        "        self.conv1 = nn.Conv2d(1, 16, 3)\n",
        "        self.pool = nn.MaxPool2d(2, 2)\n",
        "        self.Dropout = nn.Dropout(0.4)\n",
        "        self.batchNorm1 = nn.BatchNorm2d(16)\n",
        "        self.conv2 = nn.Conv2d(16, 32, 3, stride=2)\n",
        "        self.batchNorm2 = nn.BatchNorm2d(32)\n",
        "        self.conv3 = nn.Conv2d(32, 64, 3, stride=2)\n",
        "        self.batchNorm3 = nn.BatchNorm2d(64)\n",
        "        self.fc1 = nn.Linear(1600, 256)\n",
        "        self.fc2 = nn.Linear(256, 36)\n",
        "\n",
        "    def forward(self, x):\n",
        "        x = self.batchNorm1(nn.functional.relu(self.conv1(x)))\n",
        "        x = self.batchNorm2(nn.functional.relu(self.conv2(x)))\n",
        "        x = self.pool(self.batchNorm3(nn.functional.relu(self.conv3(x))))\n",
        "        x = x.view(-1, 1600)\n",
        "        x = nn.functional.relu(self.fc1(x))\n",
        "        x = self.Dropout(x)\n",
        "        x = self.fc2(x)\n",
        "        return x\n",
        "    \n",
        "# Load the data\n",
        "dataset = CaptchaDataset_1(csv_file='datasets/dataset_1.csv', root_dir='datasets/dataset/', transform=transforms.ToTensor())\n",
        "\n",
        "train_set, test_set = torch.utils.data.random_split(dataset, [8560, 2140])\n",
        "\n",
        "train_loader = torch.utils.data.DataLoader(train_set, batch_size=32, shuffle=True)\n",
        "test_loader = torch.utils.data.DataLoader(test_set, batch_size=32, shuffle=True)\n",
        "\n",
        "# Create the model\n",
        "model = ReteNeurale().to(\"cuda\")\n",
        "\n",
        "# Define the hyperparameters\n",
        "learning_rate = 0.001\n",
        "num_epochs = 30\n",
        "\n",
        "# Define the loss function and the optimizer\n",
        "criterion = nn.CrossEntropyLoss()\n",
        "optimizer = torch.optim.AdamW(model.parameters(), lr=learning_rate)\n",
        "\n",
        "# Train the model\n",
        "n_total_steps = len(train_loader)\n",
        "\n",
        "accValues = []\n",
        "train_losses = []\n",
        "\n",
        "for epoch in range(num_epochs):\n",
        "    for i, (images, labels) in enumerate(train_loader):\n",
        "        images = images.to(\"cuda\")\n",
        "        labels = labels.to(\"cuda\")\n",
        "\n",
        "        # Forward pass\n",
        "        outputs = model(images)\n",
        "        loss = criterion(outputs, labels)\n",
        "        \n",
        "        # Backward and optimize\n",
        "        optimizer.zero_grad()\n",
        "        loss.backward()\n",
        "        optimizer.step()\n",
        "\n",
        "        train_losses.append(loss.item())\n",
        "\n",
        "        if (i+1) % 100 == 0:\n",
        "            print(f'Epoch [{epoch+1}/{num_epochs}], Step [{i+1}/{n_total_steps}], Loss: {loss.item():.4f}')\n",
        "\n",
        "\n",
        "                # Test the model\n",
        "    with torch.no_grad():\n",
        "        n_correct = 0\n",
        "        n_samples = 0\n",
        "        for images, labels in test_loader:\n",
        "            images = images.to(\"cuda\")\n",
        "            labels = labels.to(\"cuda\")\n",
        "            outputs = model(images)\n",
        "            # max returns (value ,index)\n",
        "            _, predicted = torch.max(outputs, 1)\n",
        "            n_samples += labels.size(0)\n",
        "            n_correct += (predicted == labels).sum().item()\n",
        "        \n",
        "        acc = 100.0 * n_correct / n_samples\n",
        "        print(n_correct, n_samples)\n",
        "        print(f'Accuracy of the network: {acc} %')\n",
        "\n",
        "print('Finished Training')\n",
        "\n",
        "# Test the model\n",
        "with torch.no_grad():\n",
        "    n_correct = 0\n",
        "    n_samples = 0\n",
        "    for images, labels in test_loader:\n",
        "        images = images.to(\"cuda\")\n",
        "        labels = labels.to(\"cuda\")\n",
        "        outputs = model(images)\n",
        "        # max returns (value ,index)\n",
        "        _, predicted = torch.max(outputs, 1)\n",
        "        n_samples += labels.size(0)\n",
        "        n_correct += (predicted == labels).sum().item()\n",
        "    \n",
        "    acc = 100.0 * n_correct / n_samples\n",
        "    print(n_correct, n_samples)\n",
        "    print(f'Accuracy of the network: {acc} %')"
      ],
      "metadata": {
        "colab": {
          "base_uri": "https://localhost:8080/"
        },
        "id": "fZG9U0210SHY",
        "outputId": "08d6967b-5d0d-43a8-f401-708a739910a3"
      },
      "execution_count": 7,
      "outputs": [
        {
          "output_type": "stream",
          "name": "stdout",
          "text": [
            "Epoch [1/30], Step [100/268], Loss: 3.2755\n",
            "Epoch [1/30], Step [200/268], Loss: 2.9617\n",
            "316 2140\n",
            "Accuracy of the network: 14.766355140186915 %\n",
            "Epoch [2/30], Step [100/268], Loss: 2.8195\n",
            "Epoch [2/30], Step [200/268], Loss: 2.6043\n",
            "515 2140\n",
            "Accuracy of the network: 24.065420560747665 %\n",
            "Epoch [3/30], Step [100/268], Loss: 2.5171\n",
            "Epoch [3/30], Step [200/268], Loss: 2.4896\n",
            "716 2140\n",
            "Accuracy of the network: 33.45794392523364 %\n",
            "Epoch [4/30], Step [100/268], Loss: 2.0271\n",
            "Epoch [4/30], Step [200/268], Loss: 2.0098\n",
            "866 2140\n",
            "Accuracy of the network: 40.467289719626166 %\n",
            "Epoch [5/30], Step [100/268], Loss: 2.0164\n",
            "Epoch [5/30], Step [200/268], Loss: 2.0672\n",
            "997 2140\n",
            "Accuracy of the network: 46.58878504672897 %\n",
            "Epoch [6/30], Step [100/268], Loss: 1.7102\n",
            "Epoch [6/30], Step [200/268], Loss: 1.9353\n",
            "1110 2140\n",
            "Accuracy of the network: 51.86915887850467 %\n",
            "Epoch [7/30], Step [100/268], Loss: 1.7142\n",
            "Epoch [7/30], Step [200/268], Loss: 1.5801\n",
            "1171 2140\n",
            "Accuracy of the network: 54.7196261682243 %\n",
            "Epoch [8/30], Step [100/268], Loss: 1.7549\n",
            "Epoch [8/30], Step [200/268], Loss: 1.7263\n",
            "1208 2140\n",
            "Accuracy of the network: 56.44859813084112 %\n",
            "Epoch [9/30], Step [100/268], Loss: 1.1567\n",
            "Epoch [9/30], Step [200/268], Loss: 1.2997\n",
            "1256 2140\n",
            "Accuracy of the network: 58.691588785046726 %\n",
            "Epoch [10/30], Step [100/268], Loss: 1.3769\n",
            "Epoch [10/30], Step [200/268], Loss: 1.5301\n",
            "1305 2140\n",
            "Accuracy of the network: 60.981308411214954 %\n",
            "Epoch [11/30], Step [100/268], Loss: 1.2668\n",
            "Epoch [11/30], Step [200/268], Loss: 1.4510\n",
            "1333 2140\n",
            "Accuracy of the network: 62.28971962616822 %\n",
            "Epoch [12/30], Step [100/268], Loss: 1.0001\n",
            "Epoch [12/30], Step [200/268], Loss: 1.3751\n",
            "1354 2140\n",
            "Accuracy of the network: 63.271028037383175 %\n",
            "Epoch [13/30], Step [100/268], Loss: 1.5470\n",
            "Epoch [13/30], Step [200/268], Loss: 1.3289\n",
            "1384 2140\n",
            "Accuracy of the network: 64.67289719626169 %\n",
            "Epoch [14/30], Step [100/268], Loss: 1.3454\n",
            "Epoch [14/30], Step [200/268], Loss: 1.3246\n",
            "1403 2140\n",
            "Accuracy of the network: 65.5607476635514 %\n",
            "Epoch [15/30], Step [100/268], Loss: 1.2309\n",
            "Epoch [15/30], Step [200/268], Loss: 1.3027\n",
            "1436 2140\n",
            "Accuracy of the network: 67.10280373831776 %\n",
            "Epoch [16/30], Step [100/268], Loss: 1.0121\n",
            "Epoch [16/30], Step [200/268], Loss: 1.2741\n",
            "1438 2140\n",
            "Accuracy of the network: 67.19626168224299 %\n",
            "Epoch [17/30], Step [100/268], Loss: 1.1770\n",
            "Epoch [17/30], Step [200/268], Loss: 0.9861\n",
            "1486 2140\n",
            "Accuracy of the network: 69.4392523364486 %\n",
            "Epoch [18/30], Step [100/268], Loss: 1.0585\n",
            "Epoch [18/30], Step [200/268], Loss: 0.6620\n",
            "1459 2140\n",
            "Accuracy of the network: 68.17757009345794 %\n",
            "Epoch [19/30], Step [100/268], Loss: 0.8678\n",
            "Epoch [19/30], Step [200/268], Loss: 1.0343\n",
            "1507 2140\n",
            "Accuracy of the network: 70.42056074766356 %\n",
            "Epoch [20/30], Step [100/268], Loss: 0.7851\n",
            "Epoch [20/30], Step [200/268], Loss: 1.1754\n",
            "1521 2140\n",
            "Accuracy of the network: 71.07476635514018 %\n",
            "Epoch [21/30], Step [100/268], Loss: 0.7130\n",
            "Epoch [21/30], Step [200/268], Loss: 1.0910\n",
            "1541 2140\n",
            "Accuracy of the network: 72.00934579439253 %\n",
            "Epoch [22/30], Step [100/268], Loss: 1.0624\n",
            "Epoch [22/30], Step [200/268], Loss: 0.7526\n",
            "1552 2140\n",
            "Accuracy of the network: 72.5233644859813 %\n",
            "Epoch [23/30], Step [100/268], Loss: 0.9259\n",
            "Epoch [23/30], Step [200/268], Loss: 0.9090\n",
            "1543 2140\n",
            "Accuracy of the network: 72.10280373831776 %\n",
            "Epoch [24/30], Step [100/268], Loss: 0.5604\n",
            "Epoch [24/30], Step [200/268], Loss: 1.1726\n",
            "1571 2140\n",
            "Accuracy of the network: 73.41121495327103 %\n",
            "Epoch [25/30], Step [100/268], Loss: 0.9725\n",
            "Epoch [25/30], Step [200/268], Loss: 0.9496\n",
            "1561 2140\n",
            "Accuracy of the network: 72.94392523364486 %\n",
            "Epoch [26/30], Step [100/268], Loss: 0.6671\n",
            "Epoch [26/30], Step [200/268], Loss: 0.6748\n",
            "1573 2140\n",
            "Accuracy of the network: 73.50467289719626 %\n",
            "Epoch [27/30], Step [100/268], Loss: 0.5970\n",
            "Epoch [27/30], Step [200/268], Loss: 0.9007\n",
            "1586 2140\n",
            "Accuracy of the network: 74.11214953271028 %\n",
            "Epoch [28/30], Step [100/268], Loss: 1.2579\n",
            "Epoch [28/30], Step [200/268], Loss: 0.9066\n",
            "1575 2140\n",
            "Accuracy of the network: 73.59813084112149 %\n",
            "Epoch [29/30], Step [100/268], Loss: 0.7141\n",
            "Epoch [29/30], Step [200/268], Loss: 0.5598\n",
            "1623 2140\n",
            "Accuracy of the network: 75.8411214953271 %\n",
            "Epoch [30/30], Step [100/268], Loss: 0.4386\n",
            "Epoch [30/30], Step [200/268], Loss: 0.5840\n",
            "1593 2140\n",
            "Accuracy of the network: 74.4392523364486 %\n",
            "Finished Training\n",
            "1594 2140\n",
            "Accuracy of the network: 74.48598130841121 %\n"
          ]
        }
      ]
    },
    {
      "cell_type": "code",
      "source": [
        "import matplotlib.pyplot as plt\n",
        "\n",
        "val_losses = []\n",
        "\n",
        "plt.figure(figsize=(10,5))\n",
        "plt.title(\"Training and Validation Loss\")\n",
        "plt.plot(train_losses,label=\"val\")\n",
        "plt.xlabel(\"iterations\")\n",
        "plt.ylabel(\"Loss\")\n",
        "plt.legend()\n",
        "plt.show()"
      ],
      "metadata": {
        "colab": {
          "base_uri": "https://localhost:8080/",
          "height": 487
        },
        "id": "w8WO_Y5RK6ja",
        "outputId": "aedba706-21c9-402e-9557-6b51d7d77f16"
      },
      "execution_count": 8,
      "outputs": [
        {
          "output_type": "display_data",
          "data": {
            "text/plain": [
              "<Figure size 1000x500 with 1 Axes>"
            ],
            "image/png": "[encoded data removed]"
          },
          "metadata": {}
        }
      ]
    },
    {
      "cell_type": "code",
      "source": [],
      "metadata": {
        "id": "ZWCLPb5VL2uG"
      },
      "execution_count": null,
      "outputs": []
    }
  ]
}