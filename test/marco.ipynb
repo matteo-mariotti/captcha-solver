{
 "cells": [
  {
   "cell_type": "code",
   "execution_count": null,
   "metadata": {},
   "outputs": [],
   "source": [
    "import cv2\n",
    "import os\n",
    "import numpy as np\n",
    "import matplotlib.pyplot as plt"
   ]
  },
  {
   "attachments": {},
   "cell_type": "markdown",
   "metadata": {},
   "source": [
    "this is a test. I want to take an image and do automatic thresholding."
   ]
  },
  {
   "cell_type": "code",
   "execution_count": null,
   "metadata": {},
   "outputs": [],
   "source": [
    "filename = '3bx86.png'\n",
    "img1 = cv2.imread('../samples/'+ filename, cv2.IMREAD_GRAYSCALE)\n",
    "\n",
    "# Remove .png\n",
    "filename = filename[:-4]\n",
    "\n",
    "plt.imshow(img1, cmap='gray')"
   ]
  },
  {
   "cell_type": "code",
   "execution_count": null,
   "metadata": {},
   "outputs": [],
   "source": [
    "# images are in samples directory\n",
    "\n",
    "img1_thr = cv2.threshold(img1, 127, 255, cv2.THRESH_BINARY)[1]\n",
    "\n",
    "plt.imshow(img1_thr, cmap='gray')"
   ]
  },
  {
   "cell_type": "code",
   "execution_count": null,
   "metadata": {},
   "outputs": [],
   "source": [
    "# remove useless stuff\n",
    "\n",
    "img1_thr[:, 0:25] = 255\n",
    "\n",
    "img1_thr[:, 160:] = 255\n",
    "\n",
    "plt.imshow(img1_thr, cmap='gray')"
   ]
  },
  {
   "cell_type": "code",
   "execution_count": null,
   "metadata": {},
   "outputs": [],
   "source": [
    "gauss_img1 = cv2.GaussianBlur(img1_thr, (1,1), 0)\n",
    "\n",
    "plt.imshow(gauss_img1, cmap='gray')"
   ]
  },
  {
   "cell_type": "code",
   "execution_count": null,
   "metadata": {},
   "outputs": [],
   "source": [
    "close_img1 = cv2.morphologyEx(gauss_img1, cv2.MORPH_CLOSE, np.ones((3,1), np.uint8))\n",
    "\n",
    "#close_img1 = cv2.dilate(close_img1, np.ones((3,1), np.uint8), iterations = 1)\n",
    "\n",
    "plt.imshow(close_img1, cmap='gray')"
   ]
  },
  {
   "cell_type": "code",
   "execution_count": null,
   "metadata": {},
   "outputs": [],
   "source": [
    "smooth = cv2.GaussianBlur(close_img1, (3,3), 0)\n",
    "\n",
    "#sharp = cv2.addWeighted(smooth, 1.5, smooth, -0.5, 0)\n",
    "\n",
    "plt.imshow(smooth, cmap='gray')"
   ]
  },
  {
   "cell_type": "code",
   "execution_count": null,
   "metadata": {},
   "outputs": [],
   "source": [
    "sharpen_kernel = np.array([[-1,-1,-1], [-1,9,-1], [-1,-1,-1]])\n",
    "sharpen = cv2.filter2D(smooth, -1, sharpen_kernel)\n",
    "\n",
    "plt.imshow(sharpen, cmap='gray')\n"
   ]
  },
  {
   "cell_type": "code",
   "execution_count": null,
   "metadata": {},
   "outputs": [],
   "source": [
    "# thresholding\n",
    "ret, thresh = cv2.threshold(sharpen, 185, 255, cv2.THRESH_BINARY)\n",
    "\n",
    "plt.imshow(thresh, cmap='gray')"
   ]
  },
  {
   "cell_type": "code",
   "execution_count": 30,
   "metadata": {},
   "outputs": [
    {
     "name": "stdout",
     "output_type": "stream",
     "text": [
      "(5350, 50, 50)\n",
      "(5350,)\n"
     ]
    }
   ],
   "source": [
    "from PIL import Image\n",
    "import torchvision.transforms as transforms\n",
    "\n",
    "mser = cv2.MSER_create()\n",
    "\n",
    "def get_bounding_boxes(img, X, y2, filename):\n",
    "\n",
    "    regions, rects = mser.detectRegions(img)\n",
    "\n",
    "    im2 = img.copy()\n",
    "\n",
    "    final_rects = []\n",
    "\n",
    "    for (x, y, w, h) in rects:\n",
    "        if w > 135: continue\n",
    "        elif w > 115:\n",
    "            final_rects.append((x, y, w//5, h))\n",
    "            final_rects.append((x + w//5, y, w//5, h))\n",
    "            final_rects.append((x + 2 * w//5, y, w//5, h))\n",
    "            final_rects.append((x + 3 * w//5, y, w//5, h))\n",
    "            final_rects.append((x + 4 * w//5, y, w//5, h))\n",
    "        elif w > 70:\n",
    "            final_rects.append((x, y, w//4, h))\n",
    "            final_rects.append((x + w//4, y, w//4, h))\n",
    "            final_rects.append((x + 2 * w//4, y, w//4, h))\n",
    "            final_rects.append((x + 3 * w//4, y, w//4, h))\n",
    "        elif w > 50:\n",
    "            final_rects.append((x, y, w//3, h))\n",
    "            final_rects.append((x + w//3, y, w//3, h))\n",
    "            final_rects.append((x + 2 * w//3, y, w//3, h))\n",
    "\n",
    "        elif w > 35:\n",
    "            final_rects.append((x, y, w//2, h))\n",
    "            final_rects.append((x + w//2, y, w//2, h))\n",
    "        else:\n",
    "            final_rects.append((x, y, w, h))\n",
    "\n",
    "    # take the 5 biggest regions\n",
    "    final_rects = sorted(final_rects, key=lambda x: x[2] * x[3], reverse=True)[:5]\n",
    "\n",
    "    # Sort the rectangles by their x coordinate\n",
    "    final_rects = sorted(final_rects, key=lambda x: x[0])\n",
    "\n",
    "    # Create /samples_modified directory if it doesn't exist\n",
    "    if not os.path.exists('../samples_modified'):\n",
    "        os.makedirs('../samples_modified')\n",
    "\n",
    "    transform = transforms.ToTensor()\n",
    "\n",
    "    for i, (x, y, w, h) in enumerate(final_rects):\n",
    "        #cv2.rectangle(im2, (x, y), (x+w, y+h), color=(0, 255, 0), thickness=1)\n",
    "        crop = im2[y:y+h, x:x+w]\n",
    "        # Resize to 50x50\n",
    "        crop = cv2.resize(crop, (50, 50))\n",
    "        X.append(crop)\n",
    "        y2.append(filename[i])\n",
    "\n",
    "\n",
    "# For every image in the samples directory get the bounding boxes and create the dataset\n",
    "X = []\n",
    "y2 = []\n",
    "\n",
    "for photo in os.listdir('../samples'):\n",
    "    if photo.endswith('.png') or photo.endswith('.jpg'):\n",
    "        img = cv2.imread('../samples/' + photo, cv2.IMREAD_GRAYSCALE)\n",
    "        # Preprocessing\n",
    "        filename = photo[:-4]\n",
    "        img1_thr = cv2.threshold(img1, 127, 255, cv2.THRESH_BINARY)[1]\n",
    "        \n",
    "        # remove useless stuff\n",
    "        img1_thr[:, 0:25] = 255\n",
    "        img1_thr[:, 160:] = 255\n",
    "\n",
    "        smooth = cv2.GaussianBlur(close_img1, (3,3), 0)\n",
    "\n",
    "        sharpen_kernel = np.array([[-1,-1,-1], [-1,9,-1], [-1,-1,-1]])\n",
    "        sharpen = cv2.filter2D(smooth, -1, sharpen_kernel)\n",
    "\n",
    "        ret, thresh = cv2.threshold(sharpen, 185, 255, cv2.THRESH_BINARY)\n",
    "\n",
    "\n",
    "        get_bounding_boxes(thresh, X, y2, filename)\n",
    "\n",
    "\n",
    "X = np.array(X, dtype=np.float32)\n",
    "y2 = np.array(y2)\n",
    "\n",
    "print(X.shape)\n",
    "print(y2.shape)\n",
    "\n"
   ]
  },
  {
   "cell_type": "code",
   "execution_count": null,
   "metadata": {},
   "outputs": [],
   "source": [
    "X /= 255.0"
   ]
  },
  {
   "cell_type": "code",
   "execution_count": null,
   "metadata": {},
   "outputs": [],
   "source": [
    "plt.figure(figsize = (25,25))\n",
    "for i in range(5) :\n",
    "    plt.subplot(1,5,i+1)\n",
    "    plt.imshow(X[i], 'gray')\n",
    "    plt.title('Label is ' + str(y2[i]))\n",
    "plt.plot()"
   ]
  },
  {
   "cell_type": "code",
   "execution_count": null,
   "metadata": {},
   "outputs": [],
   "source": [
    "temp = set(y2)\n",
    "for t in temp :\n",
    "    print('Occurance count of ' + t + ' : ' + str(len(y2[y2 == t])))"
   ]
  }
 ],
 "metadata": {
  "kernelspec": {
   "display_name": "Python 3",
   "language": "python",
   "name": "python3"
  },
  "language_info": {
   "codemirror_mode": {
    "name": "ipython",
    "version": 3
   },
   "file_extension": ".py",
   "mimetype": "text/x-python",
   "name": "python",
   "nbconvert_exporter": "python",
   "pygments_lexer": "ipython3",
   "version": "3.11.2"
  },
  "orig_nbformat": 4
 },
 "nbformat": 4,
 "nbformat_minor": 2
}
